{
 "cells": [
  {
   "cell_type": "code",
   "execution_count": 114,
   "metadata": {},
   "outputs": [],
   "source": [
    "# Import libraries \n",
    "from PIL import Image \n",
    "import pytesseract \n",
    "import sys \n",
    "from pdf2image import convert_from_path \n",
    "import os\n",
    "  \n",
    "def Pdf_in_test(pdf_file, output_file):\n",
    "    l=os.listdir(pdf_file)\n",
    "    count_pdf=1\n",
    "    for e in l:\n",
    "        if os.path.splitext(e)[1]=='.pdf':\n",
    "            file_path=pdf_file+e\n",
    "            # Store all the pages of the PDF in a variable \n",
    "            pages = convert_from_path(file_path, 500) \n",
    "            # Counter to store images of each page of PDF to image \n",
    "            image_counter = 1\n",
    "            # Iterate through all the pages stored above \n",
    "            for page in pages: \n",
    "                # Declaring filename for each page of PDF as JPG:\n",
    "                # PDF page 1 -> page_1.jpg \n",
    "                filename = str(count_pdf)+\"_page_\"+str(image_counter)+\".jpg\"\n",
    "                # Save the image of the page in system \n",
    "                page.save(output_file+filename, 'JPEG')\n",
    "                # Increment the counter to update filename \n",
    "                image_counter = image_counter + 1\n",
    "                count_pdf +=1\n",
    "      "
   ]
  },
  {
   "cell_type": "code",
   "execution_count": 115,
   "metadata": {},
   "outputs": [],
   "source": [
    "pdf_file = \"../HM/\"\n",
    "output_file=\"../HM/IMAGE/\"\n",
    "Pdf_in_test(pdf_file, output_file)"
   ]
  },
  {
   "cell_type": "code",
   "execution_count": 138,
   "metadata": {},
   "outputs": [],
   "source": [
    "import os\n",
    "import cv2\n",
    "from matplotlib import pyplot as plt\n",
    "import pandas as pd\n",
    "def Image_transfor(path_image, output_path):\n",
    "    liste_images=os.listdir(path_image)\n",
    "    count_image=1\n",
    "    for image in liste_images:\n",
    "        #if os.path.splitext(image)[1]=='.jpg':\n",
    "        if \"jpg\" in image:\n",
    "            print(image)\n",
    "        #if image.endswith('.jpg'):\n",
    "            img = cv2.imread(path_image+image)\n",
    "            img = cv2.cvtColor(img, cv2.COLOR_BGR2GRAY)\n",
    "            # perform transformations on image\n",
    "            b = cv2.distanceTransform(img, distanceType=cv2.DIST_L2, maskSize=5)\n",
    "            g = cv2.distanceTransform(img, distanceType=cv2.DIST_L1, maskSize=5)\n",
    "            r = cv2.distanceTransform(img, distanceType=cv2.DIST_C, maskSize=5)\n",
    "            # merge the transformed channels back to an image\n",
    "            transformed_image = cv2.merge((b, g, r))\n",
    "            cv2.imwrite(output_file+\"page_\"+str(count_image)+\".png\", transformed_image)\n",
    "            count_image=count_image + 1\n"
   ]
  },
  {
   "cell_type": "code",
   "execution_count": 139,
   "metadata": {},
   "outputs": [
    {
     "name": "stdout",
     "output_type": "stream",
     "text": [
      "10_page_9.jpg\n",
      "8_page_7.jpg\n",
      "5_page_4.jpg\n",
      "7_page_6.jpg\n",
      "9_page_8.jpg\n",
      "2_page_1.jpg\n",
      "1_page_1.jpg\n",
      "4_page_3.jpg\n",
      "3_page_2.jpg\n",
      "6_page_5.jpg\n"
     ]
    }
   ],
   "source": [
    "path_image='../HM/IMAGE/'\n",
    "output_file='../HM/TRAIN/'\n",
    "Image_transfor(path_image, output_path)"
   ]
  },
  {
   "cell_type": "code",
   "execution_count": 133,
   "metadata": {},
   "outputs": [
    {
     "name": "stdout",
     "output_type": "stream",
     "text": [
      "\u001b[34mIMAGE\u001b[m\u001b[m/               \u001b[34mTRAIN\u001b[m\u001b[m/               image-pdf.pdf\r\n",
      "Liste-recette.pdf    Untitled.ipynb\r\n",
      "Preprocessing.ipynb  Untitled1.ipynb\r\n"
     ]
    }
   ],
   "source": [
    "ls"
   ]
  },
  {
   "cell_type": "code",
   "execution_count": 77,
   "metadata": {},
   "outputs": [],
   "source": [
    "import cv2\n",
    "from matplotlib import pyplot as plt\n",
    "import pandas as pd\n",
    "def Image_transfor(path_image, output_path):\n",
    "    count_image=1\n",
    "    img = cv2.imread(path_image)\n",
    "    img = cv2.cvtColor(img, cv2.COLOR_BGR2GRAY)\n",
    "    # perform transformations on image\n",
    "    b = cv2.distanceTransform(img, distanceType=cv2.DIST_L2, maskSize=5)\n",
    "    g = cv2.distanceTransform(img, distanceType=cv2.DIST_L1, maskSize=5)\n",
    "    r = cv2.distanceTransform(img, distanceType=cv2.DIST_C, maskSize=5)\n",
    "    # merge the transformed channels back to an image\n",
    "    transformed_image = cv2.merge((b, g, r))\n",
    "    cv2.imwrite(output_file+\"_page_\"+str(count_image)+\".png\", transformed_image)\n",
    "    count_image=count_image + 1\n"
   ]
  },
  {
   "cell_type": "code",
   "execution_count": 132,
   "metadata": {},
   "outputs": [
    {
     "ename": "NotADirectoryError",
     "evalue": "[Errno 20] Not a directory: '../HM/IMAGE/10_page_9.jpg'",
     "output_type": "error",
     "traceback": [
      "\u001b[0;31m---------------------------------------------------------------------------\u001b[0m",
      "\u001b[0;31mNotADirectoryError\u001b[0m                        Traceback (most recent call last)",
      "\u001b[0;32m<ipython-input-132-6501b4d7374f>\u001b[0m in \u001b[0;36m<module>\u001b[0;34m\u001b[0m\n\u001b[1;32m      1\u001b[0m \u001b[0mpath_image\u001b[0m\u001b[0;34m=\u001b[0m\u001b[0;34m'../HM/IMAGE/10_page_9.jpg'\u001b[0m\u001b[0;34m\u001b[0m\u001b[0m\n\u001b[1;32m      2\u001b[0m \u001b[0moutput_file\u001b[0m\u001b[0;34m=\u001b[0m\u001b[0;34m'../HM/TRAIN/'\u001b[0m\u001b[0;34m\u001b[0m\u001b[0m\n\u001b[0;32m----> 3\u001b[0;31m \u001b[0mImage_transfor\u001b[0m\u001b[0;34m(\u001b[0m\u001b[0mpath_image\u001b[0m\u001b[0;34m,\u001b[0m \u001b[0moutput_path\u001b[0m\u001b[0;34m)\u001b[0m\u001b[0;34m\u001b[0m\u001b[0m\n\u001b[0m",
      "\u001b[0;32m<ipython-input-130-8d2d750872ee>\u001b[0m in \u001b[0;36mImage_transfor\u001b[0;34m(path_image, output_path)\u001b[0m\n\u001b[1;32m      4\u001b[0m \u001b[0;32mimport\u001b[0m \u001b[0mpandas\u001b[0m \u001b[0;32mas\u001b[0m \u001b[0mpd\u001b[0m\u001b[0;34m\u001b[0m\u001b[0m\n\u001b[1;32m      5\u001b[0m \u001b[0;32mdef\u001b[0m \u001b[0mImage_transfor\u001b[0m\u001b[0;34m(\u001b[0m\u001b[0mpath_image\u001b[0m\u001b[0;34m,\u001b[0m \u001b[0moutput_path\u001b[0m\u001b[0;34m)\u001b[0m\u001b[0;34m:\u001b[0m\u001b[0;34m\u001b[0m\u001b[0m\n\u001b[0;32m----> 6\u001b[0;31m     \u001b[0mliste_images\u001b[0m\u001b[0;34m=\u001b[0m\u001b[0mos\u001b[0m\u001b[0;34m.\u001b[0m\u001b[0mlistdir\u001b[0m\u001b[0;34m(\u001b[0m\u001b[0mpath_image\u001b[0m\u001b[0;34m)\u001b[0m\u001b[0;34m\u001b[0m\u001b[0m\n\u001b[0m\u001b[1;32m      7\u001b[0m     \u001b[0mprint\u001b[0m\u001b[0;34m(\u001b[0m\u001b[0mliste_images\u001b[0m\u001b[0;34m)\u001b[0m\u001b[0;34m\u001b[0m\u001b[0m\n\u001b[1;32m      8\u001b[0m     \u001b[0mcount_image\u001b[0m\u001b[0;34m=\u001b[0m\u001b[0;36m1\u001b[0m\u001b[0;34m\u001b[0m\u001b[0m\n",
      "\u001b[0;31mNotADirectoryError\u001b[0m: [Errno 20] Not a directory: '../HM/IMAGE/10_page_9.jpg'"
     ]
    }
   ],
   "source": [
    "path_image='../HM/IMAGE/10_page_9.jpg'\n",
    "output_file='../HM/TRAIN/'\n",
    "Image_transfor(path_image, output_path)"
   ]
  },
  {
   "cell_type": "code",
   "execution_count": null,
   "metadata": {},
   "outputs": [],
   "source": []
  }
 ],
 "metadata": {
  "kernelspec": {
   "display_name": "Python 3",
   "language": "python",
   "name": "python3"
  },
  "language_info": {
   "codemirror_mode": {
    "name": "ipython",
    "version": 3
   },
   "file_extension": ".py",
   "mimetype": "text/x-python",
   "name": "python",
   "nbconvert_exporter": "python",
   "pygments_lexer": "ipython3",
   "version": "3.6.4"
  }
 },
 "nbformat": 4,
 "nbformat_minor": 2
}
